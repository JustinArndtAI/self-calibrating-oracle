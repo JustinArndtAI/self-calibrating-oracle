{
"cells": [
{
"cell_type": "markdown",
"metadata": {},
"source": [
"# Experiment 1: Initial Simulation & Divergence Test\n",
"\n",
"Goal: To set up the dual simulators and visually confirm that their outcomes diverge when using different physics parameters."
]
},
{
"cell_type": "code",
"execution_count": null,
"metadata": {},
"outputs": [],
"source": [
"# This notebook will be populated during Phase 1 and 3."
]
}
],
"metadata": {
"kernelspec": {
"display_name": "Python 3",
"language": "python",
"name": "python3"
},
"language_info": {
"codemirror_mode": {
"name": "ipython",
"version": 3
},
"file_extension": ".py",
"mimetype": "text/x-python",
"name": "python",
"nbconvert_exporter": "python",
"pygments_lexer": "ipython3",
"version": "3.9.12"
}
},
"nbformat": 4,
"nbformat_minor": 4
}